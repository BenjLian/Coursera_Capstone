{
  "nbformat": 4,
  "nbformat_minor": 0,
  "metadata": {
    "kernelspec": {
      "display_name": "Python",
      "language": "python",
      "name": "conda-env-python-py"
    },
    "language_info": {
      "codemirror_mode": {
        "name": "ipython",
        "version": 3
      },
      "file_extension": ".py",
      "mimetype": "text/x-python",
      "name": "python",
      "nbconvert_exporter": "python",
      "pygments_lexer": "ipython3",
      "version": "3.6.12"
    },
    "colab": {
      "name": "Final_Project_AI.ipynb",
      "provenance": [],
      "collapsed_sections": [
        "Z5CwrFimx89_",
        "ujcDq5ipx8-A"
      ],
      "include_colab_link": true
    },
    "accelerator": "GPU"
  },
  "cells": [
    {
      "cell_type": "markdown",
      "metadata": {
        "id": "view-in-github",
        "colab_type": "text"
      },
      "source": [
        "<a href=\"https://colab.research.google.com/github/BenjLian/Coursera_Capstone/blob/main/Final_Project_AI.ipynb\" target=\"_parent\"><img src=\"https://colab.research.google.com/assets/colab-badge.svg\" alt=\"Open In Colab\"/></a>"
      ]
    },
    {
      "cell_type": "markdown",
      "metadata": {
        "button": false,
        "deletable": true,
        "new_sheet": false,
        "run_control": {
          "read_only": false
        },
        "id": "ygyYF2Mnx897"
      },
      "source": [
        "<a href=\"https://cognitiveclass.ai\"><img src = \"https://s3-api.us-geo.objectstorage.softlayer.net/cf-courses-data/CognitiveClass/Logos/organization_logo/organization_logo.png\" width = 400> </a>\n",
        "\n",
        "<h1 align=center><font size = 5>Peer Review Final Assignment</font></h1>"
      ]
    },
    {
      "cell_type": "markdown",
      "metadata": {
        "button": false,
        "deletable": true,
        "new_sheet": false,
        "run_control": {
          "read_only": false
        },
        "id": "Z5CwrFimx89_"
      },
      "source": [
        "## Introduction\n"
      ]
    },
    {
      "cell_type": "markdown",
      "metadata": {
        "button": false,
        "deletable": true,
        "new_sheet": false,
        "run_control": {
          "read_only": false
        },
        "id": "p5-TUcefx89_"
      },
      "source": [
        "In this lab, you will build an image classifier using the VGG16 pre-trained model, and you will evaluate it and compare its performance to the model we built in the last module using the ResNet50 pre-trained model. Good luck!"
      ]
    },
    {
      "cell_type": "markdown",
      "metadata": {
        "button": false,
        "deletable": true,
        "new_sheet": false,
        "run_control": {
          "read_only": false
        },
        "id": "ujcDq5ipx8-A"
      },
      "source": [
        "## Table of Contents\n",
        "\n",
        "<div class=\"alert alert-block alert-info\" style=\"margin-top: 20px\">\n",
        "\n",
        "<font size = 3>    \n",
        "\n",
        "1. <a href=\"#item41\">Download Data \n",
        "2. <a href=\"#item42\">Part 1</a>\n",
        "3. <a href=\"#item43\">Part 2</a>  \n",
        "4. <a href=\"#item44\">Part 3</a>  \n",
        "\n",
        "</font>\n",
        "    \n",
        "</div>"
      ]
    },
    {
      "cell_type": "markdown",
      "metadata": {
        "button": false,
        "deletable": true,
        "new_sheet": false,
        "run_control": {
          "read_only": false
        },
        "id": "4pRk2zJwx8-B"
      },
      "source": [
        "   "
      ]
    },
    {
      "cell_type": "markdown",
      "metadata": {
        "id": "qb-g8gPNx8-B"
      },
      "source": [
        "<a id=\"item41\"></a>"
      ]
    },
    {
      "cell_type": "markdown",
      "metadata": {
        "id": "ls3onKbxx8-C"
      },
      "source": [
        "## Download Data"
      ]
    },
    {
      "cell_type": "markdown",
      "metadata": {
        "id": "C_FrfzCHx8-D"
      },
      "source": [
        "Use the <code>wget</code> command to download the data for this assignment from here: https://s3-api.us-geo.objectstorage.softlayer.net/cf-courses-data/CognitiveClass/DL0321EN/data/concrete_data_week4.zip"
      ]
    },
    {
      "cell_type": "markdown",
      "metadata": {
        "id": "RLlToZhGx8-D"
      },
      "source": [
        "Use the following cells to download the data."
      ]
    },
    {
      "cell_type": "code",
      "metadata": {
        "id": "uOjSURpOx8-E"
      },
      "source": [
        "!wget https://s3-api.us-geo.objectstorage.softlayer.net/cf-courses-data/CognitiveClass/DL0321EN/data/concrete_data_week4.zip"
      ],
      "execution_count": null,
      "outputs": []
    },
    {
      "cell_type": "code",
      "metadata": {
        "id": "y-X2cZS0x8-F"
      },
      "source": [
        "!unzip concrete_data_week4.zip"
      ],
      "execution_count": null,
      "outputs": []
    },
    {
      "cell_type": "markdown",
      "metadata": {
        "id": "_lYUrFSCx8-F"
      },
      "source": [
        "After you unzip the data, you fill find the data has already been divided into a train, validation, and test sets."
      ]
    },
    {
      "cell_type": "markdown",
      "metadata": {
        "id": "5GmE9LA7x8-G"
      },
      "source": [
        "  "
      ]
    },
    {
      "cell_type": "markdown",
      "metadata": {
        "button": false,
        "deletable": true,
        "new_sheet": false,
        "run_control": {
          "read_only": false
        },
        "id": "jrNRNi6Qx8-G"
      },
      "source": [
        "<a id=\"item42\"></a>"
      ]
    },
    {
      "cell_type": "markdown",
      "metadata": {
        "id": "H3ZHJcLFx8-H"
      },
      "source": [
        "## Part 1"
      ]
    },
    {
      "cell_type": "markdown",
      "metadata": {
        "id": "S52bhp50x8-H"
      },
      "source": [
        "In this part, you will design a classifier using the VGG16 pre-trained model. Just like the ResNet50 model, you can import the model <code>VGG16</code> from <code>keras.applications</code>."
      ]
    },
    {
      "cell_type": "markdown",
      "metadata": {
        "id": "RXoFfDb2x8-I"
      },
      "source": [
        "You will essentially build your classifier as follows:\n",
        "1. Import libraries, modules, and packages you will need. Make sure to import the *preprocess_input* function from <code>keras.applications.vgg16</code>.\n",
        "2. Use a batch size of 100 images for both training and validation.\n",
        "3. Construct an ImageDataGenerator for the training set and another one for the validation set. VGG16 was originally trained on 224 × 224 images, so make sure to address that when defining the ImageDataGenerator instances.\n",
        "4. Create a sequential model using Keras. Add VGG16 model to it and dense layer.\n",
        "5. Compile the mode using the adam optimizer and the categorical_crossentropy loss function.\n",
        "6. Fit the model on the augmented data using the ImageDataGenerators."
      ]
    },
    {
      "cell_type": "markdown",
      "metadata": {
        "id": "pkObXZSnx8-I"
      },
      "source": [
        "Use the following cells to create your classifier."
      ]
    },
    {
      "cell_type": "code",
      "metadata": {
        "id": "ahibqRvsx8-J"
      },
      "source": [
        "import keras\n",
        "from keras.models import Sequential\n",
        "from keras.layers import Dense\n",
        "from keras.applications import VGG16\n",
        "from keras.preprocessing.image import ImageDataGenerator"
      ],
      "execution_count": null,
      "outputs": []
    },
    {
      "cell_type": "code",
      "metadata": {
        "id": "t-eeRGVBx8-J"
      },
      "source": [
        "num_classes = 2\n",
        "image_resize = 224\n",
        "batch_size_training = 100\n",
        "batch_size_validation = 100"
      ],
      "execution_count": null,
      "outputs": []
    },
    {
      "cell_type": "code",
      "metadata": {
        "scrolled": true,
        "id": "GKHRMreox8-K"
      },
      "source": [
        "data_generator = ImageDataGenerator(\n",
        "        rotation_range=40,\n",
        "        width_shift_range=0.2,\n",
        "        height_shift_range=0.2,\n",
        "        rescale=1./224,\n",
        "        shear_range=0.2,\n",
        "        zoom_range=0.2,\n",
        "        horizontal_flip=True,\n",
        "        fill_mode='nearest')"
      ],
      "execution_count": null,
      "outputs": []
    },
    {
      "cell_type": "code",
      "metadata": {
        "colab": {
          "base_uri": "https://localhost:8080/"
        },
        "id": "bE_y5AzAx8-K",
        "outputId": "4e111131-5b7d-448b-bc7a-1d8535cce279"
      },
      "source": [
        "train_generator = data_generator.flow_from_directory(\n",
        "    'concrete_data_week4/train',\n",
        "    target_size=(image_resize, image_resize),\n",
        "    batch_size=batch_size_training,\n",
        "    class_mode='categorical')"
      ],
      "execution_count": null,
      "outputs": [
        {
          "output_type": "stream",
          "text": [
            "Found 30001 images belonging to 2 classes.\n"
          ],
          "name": "stdout"
        }
      ]
    },
    {
      "cell_type": "code",
      "metadata": {
        "colab": {
          "base_uri": "https://localhost:8080/"
        },
        "id": "golZzClWx8-L",
        "outputId": "24573796-c644-4bd6-84c9-bdfcbbc1a4f8"
      },
      "source": [
        "validation_generator = data_generator.flow_from_directory(\n",
        "    'concrete_data_week4/valid',\n",
        "    target_size=(image_resize, image_resize),\n",
        "    batch_size=batch_size_validation,\n",
        "    class_mode='categorical')"
      ],
      "execution_count": null,
      "outputs": [
        {
          "output_type": "stream",
          "text": [
            "Found 9501 images belonging to 2 classes.\n"
          ],
          "name": "stdout"
        }
      ]
    },
    {
      "cell_type": "code",
      "metadata": {
        "id": "KQGAPoifx8-M"
      },
      "source": [
        "model = Sequential()"
      ],
      "execution_count": null,
      "outputs": []
    },
    {
      "cell_type": "code",
      "metadata": {
        "colab": {
          "base_uri": "https://localhost:8080/"
        },
        "id": "YiRg6Ngbx8-M",
        "outputId": "7239b695-b1a7-430f-a1a2-05222cbc38ce"
      },
      "source": [
        "model.add(VGG16(\n",
        "    include_top=False,\n",
        "    pooling='avg',\n",
        "    weights='imagenet',\n",
        "    ))"
      ],
      "execution_count": null,
      "outputs": [
        {
          "output_type": "stream",
          "text": [
            "Downloading data from https://storage.googleapis.com/tensorflow/keras-applications/vgg16/vgg16_weights_tf_dim_ordering_tf_kernels_notop.h5\n",
            "58892288/58889256 [==============================] - 0s 0us/step\n"
          ],
          "name": "stdout"
        }
      ]
    },
    {
      "cell_type": "code",
      "metadata": {
        "id": "WTIvmPmax8-N"
      },
      "source": [
        "model.add(Dense(num_classes, activation='softmax'))"
      ],
      "execution_count": null,
      "outputs": []
    },
    {
      "cell_type": "code",
      "metadata": {
        "id": "qcd4RxMCx8-N"
      },
      "source": [
        "model.layers[0].trainable = False"
      ],
      "execution_count": null,
      "outputs": []
    },
    {
      "cell_type": "code",
      "metadata": {
        "colab": {
          "base_uri": "https://localhost:8080/"
        },
        "id": "UJJEw5Mix8-N",
        "outputId": "9db8b4e3-f193-4dfb-a88c-5da0b46801f7"
      },
      "source": [
        "model.summary()"
      ],
      "execution_count": null,
      "outputs": [
        {
          "output_type": "stream",
          "text": [
            "Model: \"sequential\"\n",
            "_________________________________________________________________\n",
            "Layer (type)                 Output Shape              Param #   \n",
            "=================================================================\n",
            "vgg16 (Functional)           (None, 512)               14714688  \n",
            "_________________________________________________________________\n",
            "dense (Dense)                (None, 2)                 1026      \n",
            "=================================================================\n",
            "Total params: 14,715,714\n",
            "Trainable params: 1,026\n",
            "Non-trainable params: 14,714,688\n",
            "_________________________________________________________________\n"
          ],
          "name": "stdout"
        }
      ]
    },
    {
      "cell_type": "code",
      "metadata": {
        "id": "iPd2bussx8-O"
      },
      "source": [
        "model.compile(optimizer='adam', loss='categorical_crossentropy', metrics=['accuracy'])"
      ],
      "execution_count": null,
      "outputs": []
    },
    {
      "cell_type": "code",
      "metadata": {
        "id": "4-xjPsg4x8-O"
      },
      "source": [
        "steps_per_epoch_training = len(train_generator)\n",
        "steps_per_epoch_validation = len(validation_generator)\n",
        "num_epochs = 2"
      ],
      "execution_count": null,
      "outputs": []
    },
    {
      "cell_type": "code",
      "metadata": {
        "colab": {
          "base_uri": "https://localhost:8080/"
        },
        "id": "25D0ej1Nx8-P",
        "outputId": "aaec10a1-9037-4a11-f89e-73e4d735f686"
      },
      "source": [
        "fit_history = model.fit_generator(\n",
        "    train_generator,\n",
        "    steps_per_epoch=steps_per_epoch_training,\n",
        "    epochs=num_epochs,\n",
        "    validation_data=validation_generator,\n",
        "    validation_steps=steps_per_epoch_validation,\n",
        "    verbose=1,\n",
        ")"
      ],
      "execution_count": null,
      "outputs": [
        {
          "output_type": "stream",
          "text": [
            "/usr/local/lib/python3.7/dist-packages/tensorflow/python/keras/engine/training.py:1844: UserWarning: `Model.fit_generator` is deprecated and will be removed in a future version. Please use `Model.fit`, which supports generators.\n",
            "  warnings.warn('`Model.fit_generator` is deprecated and '\n"
          ],
          "name": "stderr"
        },
        {
          "output_type": "stream",
          "text": [
            "Epoch 1/2\n",
            "301/301 [==============================] - 524s 2s/step - loss: 0.4683 - accuracy: 0.8146 - val_loss: 0.1989 - val_accuracy: 0.9560\n",
            "Epoch 2/2\n",
            "301/301 [==============================] - 473s 2s/step - loss: 0.1701 - accuracy: 0.9654 - val_loss: 0.1238 - val_accuracy: 0.9719\n"
          ],
          "name": "stdout"
        }
      ]
    },
    {
      "cell_type": "code",
      "metadata": {
        "id": "vjl0iTx-0XdQ"
      },
      "source": [
        "model.save(\"classifier_vgg_model.h5\")"
      ],
      "execution_count": null,
      "outputs": []
    },
    {
      "cell_type": "markdown",
      "metadata": {
        "id": "BdrcM2T1x8-Q"
      },
      "source": [
        "   "
      ]
    },
    {
      "cell_type": "markdown",
      "metadata": {
        "id": "9nq0S0yPx8-Q"
      },
      "source": [
        "<a id=\"item43\"></a>"
      ]
    },
    {
      "cell_type": "markdown",
      "metadata": {
        "id": "0fJNLryix8-R"
      },
      "source": [
        "## Part 2"
      ]
    },
    {
      "cell_type": "markdown",
      "metadata": {
        "id": "58pNNqcMx8-R"
      },
      "source": [
        "In this part, you will evaluate your deep learning models on a test data. For this part, you will need to do the following:\n",
        "\n",
        "1. Load your saved model that was built using the ResNet50 model. \n",
        "2. Construct an ImageDataGenerator for the test set. For this ImageDataGenerator instance, you only need to pass the directory of the test images, target size, and the **shuffle** parameter and set it to False.\n",
        "3. Use the **evaluate_generator** method to evaluate your models on the test data, by passing the above ImageDataGenerator as an argument. You can learn more about **evaluate_generator** [here](https://keras.io/models/sequential/).\n",
        "4. Print the performance of the classifier using the VGG16 pre-trained model.\n",
        "5. Print the performance of the classifier using the ResNet pre-trained model.\n"
      ]
    },
    {
      "cell_type": "markdown",
      "metadata": {
        "id": "AOcmLHG0x8-R"
      },
      "source": [
        "Use the following cells to evaluate your models."
      ]
    },
    {
      "cell_type": "code",
      "metadata": {
        "id": "H9BC0XLBx8-S"
      },
      "source": [
        "from keras.models import load_model\n",
        "modelR = load_model('classifier_resnet_model.h5')"
      ],
      "execution_count": null,
      "outputs": []
    },
    {
      "cell_type": "code",
      "metadata": {
        "colab": {
          "base_uri": "https://localhost:8080/"
        },
        "id": "Th1QGi-jx8-S",
        "outputId": "6e7c8783-348c-43a1-8452-2f866a0a53b3"
      },
      "source": [
        "test_generator = data_generator.flow_from_directory(\n",
        "    'concrete_data_week4/test',\n",
        "    target_size=(image_resize, image_resize),\n",
        "    shuffle=False)"
      ],
      "execution_count": null,
      "outputs": [
        {
          "output_type": "stream",
          "text": [
            "Found 500 images belonging to 2 classes.\n"
          ],
          "name": "stdout"
        }
      ]
    },
    {
      "cell_type": "code",
      "metadata": {
        "colab": {
          "base_uri": "https://localhost:8080/"
        },
        "id": "3Sm7QTSix8-T",
        "outputId": "bc2bf758-8a64-4d5c-ebad-781a38be8785"
      },
      "source": [
        "model.evaluate_generator(test_generator)"
      ],
      "execution_count": null,
      "outputs": [
        {
          "output_type": "stream",
          "text": [
            "/usr/local/lib/python3.7/dist-packages/tensorflow/python/keras/engine/training.py:1877: UserWarning: `Model.evaluate_generator` is deprecated and will be removed in a future version. Please use `Model.evaluate`, which supports generators.\n",
            "  warnings.warn('`Model.evaluate_generator` is deprecated and '\n"
          ],
          "name": "stderr"
        },
        {
          "output_type": "execute_result",
          "data": {
            "text/plain": [
              "[0.13715317845344543, 0.9700000286102295]"
            ]
          },
          "metadata": {
            "tags": []
          },
          "execution_count": 20
        }
      ]
    },
    {
      "cell_type": "code",
      "metadata": {
        "colab": {
          "base_uri": "https://localhost:8080/"
        },
        "id": "GL_TPzb7x8-T",
        "outputId": "05de8492-eedd-4164-f2d3-ba4fc1440209"
      },
      "source": [
        "modelR.evaluate_generator(test_generator)"
      ],
      "execution_count": null,
      "outputs": [
        {
          "output_type": "stream",
          "text": [
            "/usr/local/lib/python3.7/dist-packages/tensorflow/python/keras/engine/training.py:1877: UserWarning: `Model.evaluate_generator` is deprecated and will be removed in a future version. Please use `Model.evaluate`, which supports generators.\n",
            "  warnings.warn('`Model.evaluate_generator` is deprecated and '\n"
          ],
          "name": "stderr"
        },
        {
          "output_type": "execute_result",
          "data": {
            "text/plain": [
              "[1.982064127922058, 0.5]"
            ]
          },
          "metadata": {
            "tags": []
          },
          "execution_count": 21
        }
      ]
    },
    {
      "cell_type": "markdown",
      "metadata": {
        "id": "E3Namv2Hx8-T"
      },
      "source": [
        "   "
      ]
    },
    {
      "cell_type": "markdown",
      "metadata": {
        "id": "vQ_OiJYzx8-U"
      },
      "source": [
        "<a id=\"item44\"></a>"
      ]
    },
    {
      "cell_type": "markdown",
      "metadata": {
        "id": "dtYb13RLx8-U"
      },
      "source": [
        "## Part 3"
      ]
    },
    {
      "cell_type": "markdown",
      "metadata": {
        "id": "foNuxwfYx8-U"
      },
      "source": [
        "In this model, you will predict whether the images in the test data are images of cracked concrete or not. You will do the following:\n",
        "\n",
        "1. Use the **predict_generator** method to predict the class of the images in the test data, by passing the test data ImageDataGenerator instance defined in the previous part as an argument. You can learn more about the **predict_generator** method [here](https://keras.io/models/sequential/).\n",
        "2. Report the class predictions of the first five images in the test set. You should print something list this:\n",
        "\n",
        "<center>\n",
        "    <ul style=\"list-style-type:none\">\n",
        "        <li>Positive</li>  \n",
        "        <li>Negative</li> \n",
        "        <li>Positive</li>\n",
        "        <li>Positive</li>\n",
        "        <li>Negative</li>\n",
        "    </ul>\n",
        "</center>"
      ]
    },
    {
      "cell_type": "markdown",
      "metadata": {
        "id": "TC4H_Q0Dx8-V"
      },
      "source": [
        "Use the following cells to make your predictions."
      ]
    },
    {
      "cell_type": "code",
      "metadata": {
        "colab": {
          "base_uri": "https://localhost:8080/"
        },
        "id": "Pf71FM_hx8-V",
        "outputId": "36b98e69-5c5c-4f9c-d4a7-60b3b2ccf118"
      },
      "source": [
        "model.predict_generator(test_generator)"
      ],
      "execution_count": null,
      "outputs": [
        {
          "output_type": "stream",
          "text": [
            "/usr/local/lib/python3.7/dist-packages/tensorflow/python/keras/engine/training.py:1905: UserWarning: `Model.predict_generator` is deprecated and will be removed in a future version. Please use `Model.predict`, which supports generators.\n",
            "  warnings.warn('`Model.predict_generator` is deprecated and '\n"
          ],
          "name": "stderr"
        },
        {
          "output_type": "execute_result",
          "data": {
            "text/plain": [
              "array([[9.59666908e-01, 4.03331146e-02],\n",
              "       [7.87119210e-01, 2.12880746e-01],\n",
              "       [5.21771967e-01, 4.78228003e-01],\n",
              "       [5.04551649e-01, 4.95448381e-01],\n",
              "       [9.40374196e-01, 5.96258268e-02],\n",
              "       [9.08942163e-01, 9.10578668e-02],\n",
              "       [9.71846998e-01, 2.81530414e-02],\n",
              "       [9.54521298e-01, 4.54787239e-02],\n",
              "       [9.47940707e-01, 5.20593300e-02],\n",
              "       [9.68375981e-01, 3.16240713e-02],\n",
              "       [9.32124496e-01, 6.78755194e-02],\n",
              "       [9.24994528e-01, 7.50054196e-02],\n",
              "       [9.64673400e-01, 3.53265628e-02],\n",
              "       [9.60092664e-01, 3.99073958e-02],\n",
              "       [8.02289426e-01, 1.97710559e-01],\n",
              "       [9.30586576e-01, 6.94134533e-02],\n",
              "       [9.47869897e-01, 5.21300621e-02],\n",
              "       [9.70147252e-01, 2.98527647e-02],\n",
              "       [9.11411047e-01, 8.85889679e-02],\n",
              "       [7.50800610e-01, 2.49199361e-01],\n",
              "       [9.47672904e-01, 5.23270816e-02],\n",
              "       [9.37703550e-01, 6.22964501e-02],\n",
              "       [9.53771353e-01, 4.62286547e-02],\n",
              "       [9.39305723e-01, 6.06942996e-02],\n",
              "       [9.23806846e-01, 7.61931241e-02],\n",
              "       [9.51287031e-01, 4.87130024e-02],\n",
              "       [7.10467815e-01, 2.89532155e-01],\n",
              "       [8.82834971e-01, 1.17165066e-01],\n",
              "       [8.35083723e-01, 1.64916277e-01],\n",
              "       [9.38722253e-01, 6.12777807e-02],\n",
              "       [6.55174851e-01, 3.44825149e-01],\n",
              "       [9.19208169e-01, 8.07918683e-02],\n",
              "       [8.46568823e-01, 1.53431162e-01],\n",
              "       [9.54411924e-01, 4.55880910e-02],\n",
              "       [9.48359430e-01, 5.16405851e-02],\n",
              "       [9.70605910e-01, 2.93940492e-02],\n",
              "       [7.20875621e-01, 2.79124409e-01],\n",
              "       [8.90521586e-01, 1.09478496e-01],\n",
              "       [9.69272554e-01, 3.07274312e-02],\n",
              "       [9.49136078e-01, 5.08639105e-02],\n",
              "       [9.62554634e-01, 3.74452919e-02],\n",
              "       [9.23720837e-01, 7.62791485e-02],\n",
              "       [9.63674784e-01, 3.63252088e-02],\n",
              "       [9.43413019e-01, 5.65869026e-02],\n",
              "       [8.31528068e-01, 1.68471932e-01],\n",
              "       [9.43778455e-01, 5.62215149e-02],\n",
              "       [9.58962977e-01, 4.10370268e-02],\n",
              "       [8.07333469e-01, 1.92666575e-01],\n",
              "       [7.71811604e-01, 2.28188381e-01],\n",
              "       [9.53690469e-01, 4.63095680e-02],\n",
              "       [5.64060748e-01, 4.35939252e-01],\n",
              "       [9.65395272e-01, 3.46047282e-02],\n",
              "       [9.64906335e-01, 3.50936912e-02],\n",
              "       [9.58513141e-01, 4.14868221e-02],\n",
              "       [9.33223486e-01, 6.67765290e-02],\n",
              "       [9.52930689e-01, 4.70693372e-02],\n",
              "       [9.61418927e-01, 3.85811180e-02],\n",
              "       [9.54443216e-01, 4.55567501e-02],\n",
              "       [7.52874494e-01, 2.47125491e-01],\n",
              "       [9.51693475e-01, 4.83065583e-02],\n",
              "       [7.62637317e-01, 2.37362713e-01],\n",
              "       [9.62248683e-01, 3.77512909e-02],\n",
              "       [9.43484426e-01, 5.65155149e-02],\n",
              "       [9.49433565e-01, 5.05664907e-02],\n",
              "       [9.32989538e-01, 6.70104474e-02],\n",
              "       [9.14394319e-01, 8.56056586e-02],\n",
              "       [9.48370993e-01, 5.16290180e-02],\n",
              "       [9.53842103e-01, 4.61578779e-02],\n",
              "       [9.59551573e-01, 4.04484570e-02],\n",
              "       [9.77650762e-01, 2.23492160e-02],\n",
              "       [9.46576476e-01, 5.34235351e-02],\n",
              "       [9.56652224e-01, 4.33477536e-02],\n",
              "       [9.68176901e-01, 3.18230763e-02],\n",
              "       [9.48715091e-01, 5.12848869e-02],\n",
              "       [9.56164598e-01, 4.38353531e-02],\n",
              "       [9.13054407e-01, 8.69456157e-02],\n",
              "       [9.46854472e-01, 5.31455167e-02],\n",
              "       [8.50704074e-01, 1.49295941e-01],\n",
              "       [9.52326298e-01, 4.76737134e-02],\n",
              "       [9.22427058e-01, 7.75729865e-02],\n",
              "       [8.86268377e-01, 1.13731667e-01],\n",
              "       [9.72381055e-01, 2.76188906e-02],\n",
              "       [9.35210049e-01, 6.47899583e-02],\n",
              "       [9.67409492e-01, 3.25904489e-02],\n",
              "       [9.55650985e-01, 4.43489961e-02],\n",
              "       [9.59614873e-01, 4.03851569e-02],\n",
              "       [9.59458470e-01, 4.05415446e-02],\n",
              "       [9.66574788e-01, 3.34251672e-02],\n",
              "       [9.32132721e-01, 6.78672791e-02],\n",
              "       [7.81506598e-01, 2.18493447e-01],\n",
              "       [9.71339822e-01, 2.86602154e-02],\n",
              "       [9.43503857e-01, 5.64961843e-02],\n",
              "       [7.58786559e-01, 2.41213411e-01],\n",
              "       [9.35604453e-01, 6.43955842e-02],\n",
              "       [9.56534326e-01, 4.34656478e-02],\n",
              "       [9.42688704e-01, 5.73112294e-02],\n",
              "       [9.54389751e-01, 4.56102267e-02],\n",
              "       [9.00383353e-01, 9.96166691e-02],\n",
              "       [9.53002155e-01, 4.69978303e-02],\n",
              "       [9.05010939e-01, 9.49890092e-02],\n",
              "       [9.27983105e-01, 7.20169470e-02],\n",
              "       [9.66363609e-01, 3.36364172e-02],\n",
              "       [9.53213334e-01, 4.67866547e-02],\n",
              "       [9.58047152e-01, 4.19528261e-02],\n",
              "       [9.66954291e-01, 3.30456682e-02],\n",
              "       [7.87792087e-01, 2.12207884e-01],\n",
              "       [9.71947789e-01, 2.80522630e-02],\n",
              "       [9.68957603e-01, 3.10423914e-02],\n",
              "       [8.62017870e-01, 1.37982145e-01],\n",
              "       [9.51277196e-01, 4.87227738e-02],\n",
              "       [9.23238814e-01, 7.67611414e-02],\n",
              "       [9.42296207e-01, 5.77038638e-02],\n",
              "       [9.51387286e-01, 4.86127548e-02],\n",
              "       [9.63950753e-01, 3.60492878e-02],\n",
              "       [9.67598081e-01, 3.24019529e-02],\n",
              "       [8.38410139e-01, 1.61589846e-01],\n",
              "       [6.82709754e-01, 3.17290276e-01],\n",
              "       [9.12574530e-01, 8.74254107e-02],\n",
              "       [9.67213750e-01, 3.27862091e-02],\n",
              "       [9.08184409e-01, 9.18155313e-02],\n",
              "       [9.52733159e-01, 4.72668149e-02],\n",
              "       [9.53231514e-01, 4.67684641e-02],\n",
              "       [8.99172425e-01, 1.00827605e-01],\n",
              "       [9.24732804e-01, 7.52671733e-02],\n",
              "       [9.12802577e-01, 8.71974230e-02],\n",
              "       [8.95827949e-01, 1.04172014e-01],\n",
              "       [9.14803088e-01, 8.51968825e-02],\n",
              "       [9.31418657e-01, 6.85813278e-02],\n",
              "       [8.70347023e-01, 1.29653037e-01],\n",
              "       [9.10342515e-01, 8.96575004e-02],\n",
              "       [5.98268986e-01, 4.01730984e-01],\n",
              "       [9.36678410e-01, 6.33215755e-02],\n",
              "       [5.21744967e-01, 4.78255004e-01],\n",
              "       [9.50580239e-01, 4.94198278e-02],\n",
              "       [9.49314475e-01, 5.06855398e-02],\n",
              "       [9.47170317e-01, 5.28297573e-02],\n",
              "       [8.88009191e-01, 1.11990795e-01],\n",
              "       [9.54268515e-01, 4.57315035e-02],\n",
              "       [9.46432948e-01, 5.35670593e-02],\n",
              "       [9.64430392e-01, 3.55695449e-02],\n",
              "       [9.52669859e-01, 4.73301262e-02],\n",
              "       [9.12210464e-01, 8.77895057e-02],\n",
              "       [9.42835391e-01, 5.71646802e-02],\n",
              "       [9.52562332e-01, 4.74376120e-02],\n",
              "       [9.40970838e-01, 5.90291582e-02],\n",
              "       [9.59392428e-01, 4.06075232e-02],\n",
              "       [9.58831549e-01, 4.11684886e-02],\n",
              "       [6.51389241e-01, 3.48610789e-01],\n",
              "       [8.76167417e-01, 1.23832606e-01],\n",
              "       [9.12671149e-01, 8.73288736e-02],\n",
              "       [9.59949195e-01, 4.00508828e-02],\n",
              "       [7.51302779e-01, 2.48697251e-01],\n",
              "       [9.59286034e-01, 4.07139659e-02],\n",
              "       [9.68173981e-01, 3.18260081e-02],\n",
              "       [9.54138935e-01, 4.58610356e-02],\n",
              "       [9.07478631e-01, 9.25213918e-02],\n",
              "       [9.64882553e-01, 3.51174176e-02],\n",
              "       [9.73027706e-01, 2.69722976e-02],\n",
              "       [9.68714237e-01, 3.12857255e-02],\n",
              "       [9.15536225e-01, 8.44637454e-02],\n",
              "       [7.07493603e-01, 2.92506427e-01],\n",
              "       [9.54724133e-01, 4.52758633e-02],\n",
              "       [7.03502357e-01, 2.96497643e-01],\n",
              "       [7.53395736e-01, 2.46604308e-01],\n",
              "       [9.53881800e-01, 4.61182296e-02],\n",
              "       [9.55684781e-01, 4.43152785e-02],\n",
              "       [9.46779132e-01, 5.32208718e-02],\n",
              "       [8.05661738e-01, 1.94338307e-01],\n",
              "       [9.67837989e-01, 3.21619585e-02],\n",
              "       [9.08827901e-01, 9.11720917e-02],\n",
              "       [9.68106627e-01, 3.18933837e-02],\n",
              "       [7.74057984e-01, 2.25942016e-01],\n",
              "       [9.53242660e-01, 4.67573367e-02],\n",
              "       [9.59183156e-01, 4.08169217e-02],\n",
              "       [8.36945176e-01, 1.63054749e-01],\n",
              "       [9.30536747e-01, 6.94633052e-02],\n",
              "       [9.59664285e-01, 4.03357111e-02],\n",
              "       [8.36335123e-01, 1.63664863e-01],\n",
              "       [9.12446201e-01, 8.75538215e-02],\n",
              "       [9.11448359e-01, 8.85516852e-02],\n",
              "       [8.87559414e-01, 1.12440549e-01],\n",
              "       [9.62800801e-01, 3.71991545e-02],\n",
              "       [8.99264991e-01, 1.00734994e-01],\n",
              "       [8.30536306e-01, 1.69463694e-01],\n",
              "       [7.98429728e-01, 2.01570228e-01],\n",
              "       [9.59040701e-01, 4.09593098e-02],\n",
              "       [9.68697011e-01, 3.13030221e-02],\n",
              "       [9.55732584e-01, 4.42674607e-02],\n",
              "       [9.38972890e-01, 6.10270835e-02],\n",
              "       [9.50773060e-01, 4.92269211e-02],\n",
              "       [9.70434189e-01, 2.95657627e-02],\n",
              "       [8.77632380e-01, 1.22367553e-01],\n",
              "       [9.44864988e-01, 5.51350154e-02],\n",
              "       [9.08570230e-01, 9.14297402e-02],\n",
              "       [9.54255819e-01, 4.57441658e-02],\n",
              "       [9.10182416e-01, 8.98175612e-02],\n",
              "       [9.65743005e-01, 3.42569984e-02],\n",
              "       [7.57522106e-01, 2.42477924e-01],\n",
              "       [9.62408662e-01, 3.75913270e-02],\n",
              "       [9.48161781e-01, 5.18381894e-02],\n",
              "       [9.62083936e-01, 3.79161015e-02],\n",
              "       [9.27794576e-01, 7.22054765e-02],\n",
              "       [9.43540812e-01, 5.64592294e-02],\n",
              "       [9.42156792e-01, 5.78431599e-02],\n",
              "       [9.35631275e-01, 6.43687844e-02],\n",
              "       [9.35172141e-01, 6.48278743e-02],\n",
              "       [9.72892821e-01, 2.71072108e-02],\n",
              "       [9.08098102e-01, 9.19018909e-02],\n",
              "       [9.32918072e-01, 6.70819730e-02],\n",
              "       [9.49227571e-01, 5.07724658e-02],\n",
              "       [9.74317551e-01, 2.56825052e-02],\n",
              "       [9.63908017e-01, 3.60919461e-02],\n",
              "       [8.94892693e-01, 1.05107315e-01],\n",
              "       [8.44590843e-01, 1.55409172e-01],\n",
              "       [9.62533534e-01, 3.74664739e-02],\n",
              "       [7.45834351e-01, 2.54165649e-01],\n",
              "       [9.59832311e-01, 4.01677303e-02],\n",
              "       [9.77675438e-01, 2.23245732e-02],\n",
              "       [9.62825000e-01, 3.71749699e-02],\n",
              "       [9.49311256e-01, 5.06886765e-02],\n",
              "       [9.18488801e-01, 8.15111622e-02],\n",
              "       [9.00093555e-01, 9.99065042e-02],\n",
              "       [9.00992632e-01, 9.90073904e-02],\n",
              "       [8.80042851e-01, 1.19957119e-01],\n",
              "       [9.57209527e-01, 4.27905358e-02],\n",
              "       [8.31913233e-01, 1.68086737e-01],\n",
              "       [9.71339583e-01, 2.86604334e-02],\n",
              "       [8.92057955e-01, 1.07942075e-01],\n",
              "       [9.48672295e-01, 5.13277352e-02],\n",
              "       [9.34909046e-01, 6.50909171e-02],\n",
              "       [8.68585825e-01, 1.31414190e-01],\n",
              "       [9.24484730e-01, 7.55152553e-02],\n",
              "       [8.81654799e-01, 1.18345216e-01],\n",
              "       [9.20443594e-01, 7.95563757e-02],\n",
              "       [9.59736526e-01, 4.02634181e-02],\n",
              "       [9.72239494e-01, 2.77604591e-02],\n",
              "       [9.39998090e-01, 6.00018762e-02],\n",
              "       [9.75375652e-01, 2.46243216e-02],\n",
              "       [9.52324152e-01, 4.76758331e-02],\n",
              "       [6.24085724e-01, 3.75914246e-01],\n",
              "       [6.59308016e-01, 3.40691954e-01],\n",
              "       [9.58694875e-01, 4.13050838e-02],\n",
              "       [4.51430202e-01, 5.48569739e-01],\n",
              "       [8.85188162e-01, 1.14811853e-01],\n",
              "       [9.72487271e-01, 2.75127366e-02],\n",
              "       [9.69253480e-01, 3.07464600e-02],\n",
              "       [9.40543652e-01, 5.94563410e-02],\n",
              "       [9.58974004e-01, 4.10259776e-02],\n",
              "       [9.31265950e-01, 6.87341094e-02],\n",
              "       [9.66806412e-01, 3.31935622e-02],\n",
              "       [1.93487462e-02, 9.80651319e-01],\n",
              "       [1.07312784e-01, 8.92687261e-01],\n",
              "       [8.72306973e-02, 9.12769258e-01],\n",
              "       [1.26560375e-01, 8.73439550e-01],\n",
              "       [2.33430173e-02, 9.76656914e-01],\n",
              "       [5.61496258e-01, 4.38503742e-01],\n",
              "       [7.81230703e-02, 9.21876907e-01],\n",
              "       [7.95004293e-02, 9.20499563e-01],\n",
              "       [2.80720033e-02, 9.71927941e-01],\n",
              "       [4.68136230e-03, 9.95318592e-01],\n",
              "       [1.66561514e-01, 8.33438456e-01],\n",
              "       [1.90289527e-01, 8.09710503e-01],\n",
              "       [8.86242911e-02, 9.11375701e-01],\n",
              "       [9.07734334e-02, 9.09226596e-01],\n",
              "       [2.28377670e-01, 7.71622300e-01],\n",
              "       [2.03842018e-02, 9.79615808e-01],\n",
              "       [6.69243336e-02, 9.33075666e-01],\n",
              "       [1.30361486e-02, 9.86963809e-01],\n",
              "       [2.50718114e-03, 9.97492790e-01],\n",
              "       [6.71142479e-03, 9.93288577e-01],\n",
              "       [4.44694795e-02, 9.55530524e-01],\n",
              "       [1.91805899e-01, 8.08194101e-01],\n",
              "       [5.41044660e-02, 9.45895493e-01],\n",
              "       [4.10460114e-01, 5.89539886e-01],\n",
              "       [1.47016244e-02, 9.85298395e-01],\n",
              "       [5.29998779e-01, 4.70001221e-01],\n",
              "       [2.44580937e-04, 9.99755442e-01],\n",
              "       [9.80684236e-02, 9.01931643e-01],\n",
              "       [3.95651877e-01, 6.04348123e-01],\n",
              "       [9.55949724e-02, 9.04404998e-01],\n",
              "       [2.84016151e-02, 9.71598327e-01],\n",
              "       [3.01452111e-02, 9.69854832e-01],\n",
              "       [1.31153032e-01, 8.68846953e-01],\n",
              "       [4.55493340e-03, 9.95445132e-01],\n",
              "       [4.70134407e-01, 5.29865623e-01],\n",
              "       [3.99477482e-02, 9.60052252e-01],\n",
              "       [2.67578155e-01, 7.32421875e-01],\n",
              "       [2.08545625e-02, 9.79145408e-01],\n",
              "       [7.09002838e-02, 9.29099679e-01],\n",
              "       [1.34898365e-01, 8.65101695e-01],\n",
              "       [3.41154546e-01, 6.58845484e-01],\n",
              "       [1.12267084e-01, 8.87732863e-01],\n",
              "       [2.04844952e-01, 7.95155108e-01],\n",
              "       [4.55072755e-03, 9.95449245e-01],\n",
              "       [3.96355279e-02, 9.60364461e-01],\n",
              "       [8.63275840e-04, 9.99136746e-01],\n",
              "       [5.70190810e-02, 9.42980886e-01],\n",
              "       [2.62605734e-02, 9.73739386e-01],\n",
              "       [4.29236628e-02, 9.57076371e-01],\n",
              "       [6.32742886e-03, 9.93672609e-01],\n",
              "       [1.00906873e-02, 9.89909291e-01],\n",
              "       [2.98473220e-02, 9.70152617e-01],\n",
              "       [4.23777243e-03, 9.95762289e-01],\n",
              "       [7.58774430e-02, 9.24122572e-01],\n",
              "       [2.51189130e-03, 9.97488141e-01],\n",
              "       [3.31375711e-02, 9.66862440e-01],\n",
              "       [1.17071189e-01, 8.82928848e-01],\n",
              "       [5.99597720e-03, 9.94004071e-01],\n",
              "       [3.53648931e-01, 6.46351099e-01],\n",
              "       [3.02185446e-01, 6.97814524e-01],\n",
              "       [1.57695003e-02, 9.84230459e-01],\n",
              "       [1.06376015e-01, 8.93623948e-01],\n",
              "       [1.52834654e-01, 8.47165287e-01],\n",
              "       [8.43210053e-03, 9.91567910e-01],\n",
              "       [1.01315312e-01, 8.98684740e-01],\n",
              "       [6.52794086e-04, 9.99347150e-01],\n",
              "       [1.29810311e-02, 9.87018943e-01],\n",
              "       [1.39020950e-01, 8.60979080e-01],\n",
              "       [8.23328793e-02, 9.17667091e-01],\n",
              "       [5.64421080e-02, 9.43557918e-01],\n",
              "       [6.12498045e-01, 3.87501955e-01],\n",
              "       [3.71841788e-02, 9.62815821e-01],\n",
              "       [1.35560393e-01, 8.64439547e-01],\n",
              "       [9.57661569e-02, 9.04233813e-01],\n",
              "       [1.05522014e-01, 8.94478023e-01],\n",
              "       [1.98689941e-02, 9.80131030e-01],\n",
              "       [1.11386292e-02, 9.88861382e-01],\n",
              "       [2.67204307e-02, 9.73279536e-01],\n",
              "       [4.52660546e-02, 9.54734027e-01],\n",
              "       [4.83086221e-02, 9.51691449e-01],\n",
              "       [4.40545119e-02, 9.55945492e-01],\n",
              "       [5.76078631e-02, 9.42392111e-01],\n",
              "       [2.00947791e-01, 7.99052179e-01],\n",
              "       [5.52405193e-02, 9.44759429e-01],\n",
              "       [2.31327057e-01, 7.68672943e-01],\n",
              "       [2.79844962e-02, 9.72015560e-01],\n",
              "       [1.94273368e-01, 8.05726647e-01],\n",
              "       [7.97508433e-02, 9.20249224e-01],\n",
              "       [4.58619669e-02, 9.54138041e-01],\n",
              "       [1.11438341e-01, 8.88561606e-01],\n",
              "       [5.29934838e-02, 9.47006464e-01],\n",
              "       [4.56370711e-02, 9.54362988e-01],\n",
              "       [1.56461760e-01, 8.43538225e-01],\n",
              "       [1.38532490e-01, 8.61467540e-01],\n",
              "       [2.80617038e-03, 9.97193813e-01],\n",
              "       [2.40448207e-01, 7.59551764e-01],\n",
              "       [1.84523180e-01, 8.15476835e-01],\n",
              "       [3.18034831e-03, 9.96819615e-01],\n",
              "       [2.73844153e-02, 9.72615600e-01],\n",
              "       [1.47131355e-02, 9.85286832e-01],\n",
              "       [1.14111803e-01, 8.85888159e-01],\n",
              "       [3.27815861e-02, 9.67218399e-01],\n",
              "       [9.19420123e-02, 9.08057988e-01],\n",
              "       [3.67239892e-01, 6.32760108e-01],\n",
              "       [2.31538936e-02, 9.76846099e-01],\n",
              "       [8.74763578e-02, 9.12523627e-01],\n",
              "       [1.15139432e-01, 8.84860516e-01],\n",
              "       [1.03038102e-02, 9.89696145e-01],\n",
              "       [7.04524864e-04, 9.99295473e-01],\n",
              "       [6.12167567e-02, 9.38783169e-01],\n",
              "       [2.37152708e-04, 9.99762833e-01],\n",
              "       [9.45716277e-02, 9.05428350e-01],\n",
              "       [4.03144479e-01, 5.96855521e-01],\n",
              "       [2.76444312e-02, 9.72355604e-01],\n",
              "       [3.29571329e-02, 9.67042923e-01],\n",
              "       [7.20238015e-02, 9.27976191e-01],\n",
              "       [6.50541449e-04, 9.99349415e-01],\n",
              "       [3.80305536e-02, 9.61969435e-01],\n",
              "       [6.92721456e-02, 9.30727839e-01],\n",
              "       [1.89004950e-02, 9.81099546e-01],\n",
              "       [1.01354711e-01, 8.98645222e-01],\n",
              "       [4.44123894e-02, 9.55587626e-01],\n",
              "       [5.25299251e-01, 4.74700779e-01],\n",
              "       [4.19993132e-01, 5.80006838e-01],\n",
              "       [3.68962586e-01, 6.31037474e-01],\n",
              "       [2.34855525e-02, 9.76514459e-01],\n",
              "       [5.63302696e-01, 4.36697334e-01],\n",
              "       [1.29722819e-01, 8.70277226e-01],\n",
              "       [5.82578778e-02, 9.41742182e-01],\n",
              "       [8.99923872e-03, 9.91000712e-01],\n",
              "       [2.35856444e-01, 7.64143586e-01],\n",
              "       [5.70766581e-03, 9.94292378e-01],\n",
              "       [3.52247544e-02, 9.64775264e-01],\n",
              "       [6.57550842e-02, 9.34244990e-01],\n",
              "       [2.28611991e-01, 7.71387935e-01],\n",
              "       [4.29561019e-01, 5.70438921e-01],\n",
              "       [1.09468233e-02, 9.89053190e-01],\n",
              "       [1.97726791e-03, 9.98022795e-01],\n",
              "       [4.82221041e-03, 9.95177746e-01],\n",
              "       [2.63508921e-03, 9.97364938e-01],\n",
              "       [7.76814763e-03, 9.92231846e-01],\n",
              "       [1.26348853e-01, 8.73651147e-01],\n",
              "       [2.34741997e-02, 9.76525843e-01],\n",
              "       [3.17956856e-03, 9.96820450e-01],\n",
              "       [1.58306386e-03, 9.98416901e-01],\n",
              "       [6.03222363e-02, 9.39677775e-01],\n",
              "       [7.19488773e-04, 9.99280512e-01],\n",
              "       [3.30289011e-03, 9.96697187e-01],\n",
              "       [4.57314700e-02, 9.54268515e-01],\n",
              "       [1.90910846e-02, 9.80908871e-01],\n",
              "       [6.44878671e-02, 9.35512125e-01],\n",
              "       [5.55037521e-03, 9.94449615e-01],\n",
              "       [4.27240059e-02, 9.57276046e-01],\n",
              "       [3.83231550e-01, 6.16768479e-01],\n",
              "       [3.13100517e-02, 9.68689978e-01],\n",
              "       [2.74982229e-02, 9.72501814e-01],\n",
              "       [1.52056158e-01, 8.47943783e-01],\n",
              "       [1.92345664e-01, 8.07654321e-01],\n",
              "       [3.99326570e-02, 9.60067391e-01],\n",
              "       [4.99310624e-03, 9.95006919e-01],\n",
              "       [3.72868450e-03, 9.96271253e-01],\n",
              "       [1.43611268e-03, 9.98563945e-01],\n",
              "       [2.63823897e-01, 7.36176133e-01],\n",
              "       [3.02248728e-02, 9.69775081e-01],\n",
              "       [3.58897597e-02, 9.64110196e-01],\n",
              "       [6.33815750e-02, 9.36618507e-01],\n",
              "       [1.10395662e-02, 9.88960445e-01],\n",
              "       [4.43259552e-02, 9.55674112e-01],\n",
              "       [5.55229140e-03, 9.94447708e-01],\n",
              "       [5.22138298e-01, 4.77861702e-01],\n",
              "       [4.24452499e-03, 9.95755553e-01],\n",
              "       [1.78244323e-01, 8.21755707e-01],\n",
              "       [4.48433071e-01, 5.51566899e-01],\n",
              "       [2.86859006e-01, 7.13141024e-01],\n",
              "       [2.41660938e-01, 7.58339047e-01],\n",
              "       [1.28310964e-01, 8.71689022e-01],\n",
              "       [5.48266411e-01, 4.51733530e-01],\n",
              "       [6.26947656e-02, 9.37305212e-01],\n",
              "       [4.47611883e-03, 9.95523930e-01],\n",
              "       [3.80762070e-02, 9.61923718e-01],\n",
              "       [8.03330541e-03, 9.91966665e-01],\n",
              "       [1.22427814e-01, 8.77572179e-01],\n",
              "       [7.52438977e-02, 9.24756110e-01],\n",
              "       [3.99502181e-02, 9.60049808e-01],\n",
              "       [6.45809770e-02, 9.35419083e-01],\n",
              "       [5.13059199e-02, 9.48694050e-01],\n",
              "       [1.18835673e-01, 8.81164372e-01],\n",
              "       [8.52775667e-03, 9.91472304e-01],\n",
              "       [4.64408696e-02, 9.53559101e-01],\n",
              "       [1.08551199e-03, 9.98914480e-01],\n",
              "       [1.12909280e-01, 8.87090683e-01],\n",
              "       [1.60649940e-01, 8.39350045e-01],\n",
              "       [8.12731087e-02, 9.18726921e-01],\n",
              "       [9.31247845e-02, 9.06875253e-01],\n",
              "       [1.73450466e-02, 9.82654989e-01],\n",
              "       [1.53332856e-02, 9.84666705e-01],\n",
              "       [7.67043829e-02, 9.23295617e-01],\n",
              "       [3.44927400e-01, 6.55072570e-01],\n",
              "       [2.22924668e-02, 9.77707505e-01],\n",
              "       [3.79241398e-03, 9.96207595e-01],\n",
              "       [2.10428331e-02, 9.78957236e-01],\n",
              "       [8.51908252e-02, 9.14809167e-01],\n",
              "       [5.43318037e-03, 9.94566798e-01],\n",
              "       [1.94860306e-02, 9.80513990e-01],\n",
              "       [1.19571477e-01, 8.80428553e-01],\n",
              "       [1.63636599e-02, 9.83636320e-01],\n",
              "       [2.57607503e-03, 9.97424006e-01],\n",
              "       [3.40006663e-03, 9.96599972e-01],\n",
              "       [2.13121064e-02, 9.78687882e-01],\n",
              "       [2.17289024e-04, 9.99782741e-01],\n",
              "       [2.13810168e-02, 9.78618920e-01],\n",
              "       [3.09034269e-02, 9.69096541e-01],\n",
              "       [2.79593095e-02, 9.72040653e-01],\n",
              "       [3.61840688e-02, 9.63815987e-01],\n",
              "       [2.92772353e-02, 9.70722795e-01],\n",
              "       [2.24008068e-01, 7.75991976e-01],\n",
              "       [7.83090442e-02, 9.21690941e-01],\n",
              "       [2.49420982e-02, 9.75057840e-01],\n",
              "       [1.26664592e-02, 9.87333536e-01],\n",
              "       [4.81080189e-02, 9.51891959e-01],\n",
              "       [4.34994340e-01, 5.65005600e-01],\n",
              "       [1.73784960e-02, 9.82621491e-01],\n",
              "       [3.63294743e-02, 9.63670492e-01],\n",
              "       [1.71293393e-01, 8.28706563e-01],\n",
              "       [2.91894991e-02, 9.70810413e-01],\n",
              "       [9.49213952e-02, 9.05078590e-01],\n",
              "       [6.95591941e-02, 9.30440843e-01],\n",
              "       [1.26954131e-02, 9.87304628e-01],\n",
              "       [1.46583710e-02, 9.85341609e-01],\n",
              "       [1.30798889e-03, 9.98691976e-01],\n",
              "       [9.48695615e-02, 9.05130446e-01],\n",
              "       [4.45440680e-01, 5.54559290e-01],\n",
              "       [5.37366308e-02, 9.46263373e-01],\n",
              "       [5.30106993e-03, 9.94698882e-01],\n",
              "       [2.71863461e-01, 7.28136539e-01],\n",
              "       [5.33349849e-02, 9.46665049e-01],\n",
              "       [4.14685346e-02, 9.58531439e-01],\n",
              "       [1.54639348e-01, 8.45360696e-01],\n",
              "       [2.25658361e-02, 9.77434158e-01],\n",
              "       [3.49587910e-02, 9.65041161e-01],\n",
              "       [4.89902675e-01, 5.10097265e-01],\n",
              "       [2.55425781e-01, 7.44574249e-01],\n",
              "       [1.77827060e-01, 8.22172999e-01],\n",
              "       [9.41946581e-02, 9.05805349e-01],\n",
              "       [1.35514862e-03, 9.98644888e-01],\n",
              "       [6.52789325e-03, 9.93472099e-01],\n",
              "       [1.87050521e-01, 8.12949479e-01],\n",
              "       [8.32842737e-02, 9.16715741e-01],\n",
              "       [5.39306328e-02, 9.46069360e-01],\n",
              "       [6.03801489e-01, 3.96198511e-01]], dtype=float32)"
            ]
          },
          "metadata": {
            "tags": []
          },
          "execution_count": 26
        }
      ]
    },
    {
      "cell_type": "markdown",
      "metadata": {
        "id": "gXZpK84tLktu"
      },
      "source": [
        "For the first five images the probabilities are:\n",
        "\n",
        "       [0.959666908, 0.0403331146e],\n",
        "       [0.787119210, 0.212880746e],\n",
        "       [0.521771967, 0.478228003e],\n",
        "       [0.504551649, 0.495448381e],\n",
        "       [0.940374196, 0.0596258268e]\n",
        "\n",
        "Thus, the result would be \n",
        "\n",
        "        Positive\n",
        "        Positive\n",
        "        Positive\n",
        "        Positive\n",
        "        Positive"
      ]
    },
    {
      "cell_type": "code",
      "metadata": {
        "id": "GvbsWeyZj8hD"
      },
      "source": [
        "predict_R = modelR.predict_generator(test_generator_resnet,steps_per_epoch_test)"
      ],
      "execution_count": null,
      "outputs": []
    },
    {
      "cell_type": "code",
      "metadata": {
        "id": "7VPEPPOQj8hD"
      },
      "source": [
        "predict_vgg = model.predict_generator(test_generator_vgg,steps_per_epoch_test)"
      ],
      "execution_count": null,
      "outputs": []
    },
    {
      "cell_type": "code",
      "metadata": {
        "id": "vYTnu28vj8hE"
      },
      "source": [
        "for i in range(5):\n",
        "        if predict_R[i][0] > predict_R[i][1]:\n",
        "            print(\"NEGATIVE\")\n",
        "        else:\n",
        "            print(\"POSITIVE\")"
      ],
      "execution_count": null,
      "outputs": []
    },
    {
      "cell_type": "code",
      "metadata": {
        "id": "1NSSliV8j8hE"
      },
      "source": [
        "for i in range(5):\n",
        "        if predict_vgg[i][0] > predict_vgg[i][1]:\n",
        "            print(\"NEGATIVE\")\n",
        "        else:\n",
        "            print(\"POSITIVE\")"
      ],
      "execution_count": null,
      "outputs": []
    },
    {
      "cell_type": "markdown",
      "metadata": {
        "button": false,
        "deletable": true,
        "new_sheet": false,
        "run_control": {
          "read_only": false
        },
        "id": "sIakKjIix8-W"
      },
      "source": [
        "### Thank you for completing this lab!\n",
        "\n",
        "This notebook was created by Alex Aklson."
      ]
    },
    {
      "cell_type": "markdown",
      "metadata": {
        "button": false,
        "deletable": true,
        "new_sheet": false,
        "run_control": {
          "read_only": false
        },
        "id": "bNy4cJeTx8-W"
      },
      "source": [
        "This notebook is part of a course on **Coursera** called *AI Capstone Project with Deep Learning*. If you accessed this notebook outside the course, you can take this course online by clicking [here](https://cocl.us/DL0321EN_Coursera_Week4_LAB1)."
      ]
    },
    {
      "cell_type": "markdown",
      "metadata": {
        "button": false,
        "deletable": true,
        "new_sheet": false,
        "run_control": {
          "read_only": false
        },
        "id": "xG591xAox8-X"
      },
      "source": [
        "<hr>\n",
        "\n",
        "Copyright &copy; 2020 [IBM Developer Skills Network](https://cognitiveclass.ai/?utm_source=bducopyrightlink&utm_medium=dswb&utm_campaign=bdu). This notebook and its source code are released under the terms of the [MIT License](https://bigdatauniversity.com/mit-license/)."
      ]
    }
  ]
}